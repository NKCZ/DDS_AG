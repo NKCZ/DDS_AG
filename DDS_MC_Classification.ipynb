{
 "cells": [
  {
   "cell_type": "markdown",
   "metadata": {},
   "source": [
    "# DDS: AG Newspapers"
   ]
  },
  {
   "cell_type": "markdown",
   "metadata": {},
   "source": [
    "Implementation of Naive Bayes and Logistic Regression (SVM and RF, which for some or other reason did not make the cut)."
   ]
  },
  {
   "cell_type": "markdown",
   "metadata": {},
   "source": [
    "# Libraries"
   ]
  },
  {
   "cell_type": "code",
   "execution_count": 1,
   "metadata": {},
   "outputs": [],
   "source": [
    "import pandas as pd\n",
    "from sklearn.model_selection import train_test_split\n",
    "from sklearn.feature_extraction.text import TfidfVectorizer\n",
    "from sklearn.svm import SVC\n",
    "from sklearn.naive_bayes import MultinomialNB\n",
    "from sklearn.linear_model import LogisticRegression\n",
    "from sklearn.metrics import classification_report\n",
    "from sklearn.ensemble import RandomForestClassifier"
   ]
  },
  {
   "cell_type": "markdown",
   "metadata": {},
   "source": [
    "# Data"
   ]
  },
  {
   "cell_type": "code",
   "execution_count": 2,
   "metadata": {},
   "outputs": [],
   "source": [
    "df = pd.read_csv('clean_data.csv')\n",
    "# but use train data and test data from Max instead for reproducibility!\n",
    "train_df = pd.read_csv('train_set.csv')\n",
    "test_df = pd.read_csv('test_set.csv')\n",
    "train_df.drop(columns=[\"title\", \"description\", \"source\", \"labels\"], inplace=True)\n",
    "test_df.drop(columns=[\"title\", \"description\", \"source\", \"labels\"], inplace=True)"
   ]
  },
  {
   "cell_type": "code",
   "execution_count": 3,
   "metadata": {},
   "outputs": [
    {
     "data": {
      "text/html": [
       "<div>\n",
       "<style scoped>\n",
       "    .dataframe tbody tr th:only-of-type {\n",
       "        vertical-align: middle;\n",
       "    }\n",
       "\n",
       "    .dataframe tbody tr th {\n",
       "        vertical-align: top;\n",
       "    }\n",
       "\n",
       "    .dataframe thead th {\n",
       "        text-align: right;\n",
       "    }\n",
       "</style>\n",
       "<table border=\"1\" class=\"dataframe\">\n",
       "  <thead>\n",
       "    <tr style=\"text-align: right;\">\n",
       "      <th></th>\n",
       "      <th>article</th>\n",
       "      <th>label_strings</th>\n",
       "    </tr>\n",
       "  </thead>\n",
       "  <tbody>\n",
       "    <tr>\n",
       "      <th>0</th>\n",
       "      <td>title: New bug in open source database MySQL\\n...</td>\n",
       "      <td>Sci/Tech</td>\n",
       "    </tr>\n",
       "    <tr>\n",
       "      <th>1</th>\n",
       "      <td>title: Football: Wenger looks forward to Chels...</td>\n",
       "      <td>Sports</td>\n",
       "    </tr>\n",
       "    <tr>\n",
       "      <th>2</th>\n",
       "      <td>title: Pakistan #39;s Senate passes bill allow...</td>\n",
       "      <td>World</td>\n",
       "    </tr>\n",
       "    <tr>\n",
       "      <th>3</th>\n",
       "      <td>title: Genetic Testing Challenges Medical Ethi...</td>\n",
       "      <td>Health</td>\n",
       "    </tr>\n",
       "    <tr>\n",
       "      <th>4</th>\n",
       "      <td>title: 'TwoDay' Method Helps Women Avoid Pregn...</td>\n",
       "      <td>Health</td>\n",
       "    </tr>\n",
       "  </tbody>\n",
       "</table>\n",
       "</div>"
      ],
      "text/plain": [
       "                                             article label_strings\n",
       "0  title: New bug in open source database MySQL\\n...      Sci/Tech\n",
       "1  title: Football: Wenger looks forward to Chels...        Sports\n",
       "2  title: Pakistan #39;s Senate passes bill allow...         World\n",
       "3  title: Genetic Testing Challenges Medical Ethi...        Health\n",
       "4  title: 'TwoDay' Method Helps Women Avoid Pregn...        Health"
      ]
     },
     "execution_count": 3,
     "metadata": {},
     "output_type": "execute_result"
    }
   ],
   "source": [
    "train_df.head()"
   ]
  },
  {
   "cell_type": "code",
   "execution_count": 4,
   "metadata": {},
   "outputs": [
    {
     "name": "stdout",
     "output_type": "stream",
     "text": [
      "(221751, 2)\n",
      "(24639, 2)\n"
     ]
    }
   ],
   "source": [
    "print(train_df.shape)\n",
    "print(test_df.shape)"
   ]
  },
  {
   "cell_type": "code",
   "execution_count": 5,
   "metadata": {},
   "outputs": [],
   "source": [
    "train_df[\"article\"] = train_df[\"article\"].str.replace(\"title:\", \"\")\n",
    "train_df[\"article\"] = train_df[\"article\"].str.replace(\"description:\", \"\")\n",
    "test_df[\"article\"] = test_df[\"article\"].str.replace(\"title:\", \"\")\n",
    "test_df[\"article\"] = test_df[\"article\"].str.replace(\"description:\", \"\")\n",
    "#df = df[~(df[\"labels\"] == \"Italia\")]\n"
   ]
  },
  {
   "cell_type": "code",
   "execution_count": 6,
   "metadata": {},
   "outputs": [
    {
     "data": {
      "text/plain": [
       "labels\n",
       "Sports                       49345\n",
       "World                        47462\n",
       "Business                     39478\n",
       "Sci/Tech                     26572\n",
       "Europe                       18822\n",
       "Entertainment                15358\n",
       "Health                       12430\n",
       "Italia                       12347\n",
       "Top News                      9508\n",
       "U.S.                          7346\n",
       "Top Stories                   4070\n",
       "Toons                         2101\n",
       "Software and Developement      941\n",
       "Music Feeds                    610\n",
       "Name: count, dtype: int64"
      ]
     },
     "execution_count": 6,
     "metadata": {},
     "output_type": "execute_result"
    }
   ],
   "source": [
    "df[\"labels\"].value_counts()"
   ]
  },
  {
   "cell_type": "markdown",
   "metadata": {},
   "source": [
    "# Split data into training and test sets"
   ]
  },
  {
   "cell_type": "code",
   "execution_count": 7,
   "metadata": {},
   "outputs": [],
   "source": [
    "def split_train_test(df, size_of_test=0.3):\n",
    "    X_train, X_test, y_train, y_test = train_test_split(df['article'], df['labels'], test_size=size_of_test, random_state=42)\n",
    "    return X_train, X_test, y_train, y_test\n",
    "\n",
    "X_train, X_test, y_train, y_test = split_train_test(df)\n",
    "\n",
    "def import_train_test(train_set, test_set):\n",
    "    X_train = train_set[\"article\"]\n",
    "    y_train = train_set[\"label_strings\"]\n",
    "    X_test = test_set[\"article\"]\n",
    "    y_test = test_set[\"label_strings\"]\n",
    "    return X_train, X_test, y_train, y_test\n",
    "\n",
    "X_train, X_test, y_train, y_test = import_train_test(train_df, test_df)"
   ]
  },
  {
   "cell_type": "code",
   "execution_count": 8,
   "metadata": {},
   "outputs": [
    {
     "data": {
      "text/plain": [
       "(221751,)"
      ]
     },
     "execution_count": 8,
     "metadata": {},
     "output_type": "execute_result"
    }
   ],
   "source": [
    "X_train.shape"
   ]
  },
  {
   "cell_type": "markdown",
   "metadata": {},
   "source": [
    "# TF-IDF"
   ]
  },
  {
   "cell_type": "code",
   "execution_count": 9,
   "metadata": {},
   "outputs": [],
   "source": [
    "tfidf = TfidfVectorizer()\n",
    "X_train_tfidf = tfidf.fit_transform(X_train)\n",
    "X_test_tfidf = tfidf.transform(X_test)"
   ]
  },
  {
   "cell_type": "code",
   "execution_count": 10,
   "metadata": {},
   "outputs": [
    {
     "name": "stdout",
     "output_type": "stream",
     "text": [
      "(221751, 114820)\n",
      "(24639, 114820)\n"
     ]
    }
   ],
   "source": [
    "print(X_train_tfidf.shape)\n",
    "print(X_test_tfidf.shape)"
   ]
  },
  {
   "cell_type": "markdown",
   "metadata": {},
   "source": [
    "# Naive Bayes"
   ]
  },
  {
   "cell_type": "markdown",
   "metadata": {},
   "source": [
    "Classic, but bad results."
   ]
  },
  {
   "cell_type": "code",
   "execution_count": 28,
   "metadata": {},
   "outputs": [
    {
     "name": "stdout",
     "output_type": "stream",
     "text": [
      "Classification Report for Naive Bayes:\n",
      "\n"
     ]
    },
    {
     "name": "stderr",
     "output_type": "stream",
     "text": [
      "C:\\Users\\N\\AppData\\Roaming\\Python\\Python39\\site-packages\\sklearn\\metrics\\_classification.py:1471: UndefinedMetricWarning: Precision and F-score are ill-defined and being set to 0.0 in labels with no predicted samples. Use `zero_division` parameter to control this behavior.\n",
      "  _warn_prf(average, modifier, msg_start, len(result))\n"
     ]
    },
    {
     "name": "stdout",
     "output_type": "stream",
     "text": [
      "                           precision    recall  f1-score   support\n",
      "\n",
      "                 Business       0.72      0.89      0.80      3948\n",
      "            Entertainment       0.81      0.36      0.50      1536\n",
      "                   Europe       0.81      0.09      0.16      1882\n",
      "                   Health       0.88      0.57      0.69      1243\n",
      "                   Italia       1.00      1.00      1.00      1235\n",
      "              Music Feeds       0.00      0.00      0.00        61\n",
      "                 Sci/Tech       0.80      0.77      0.78      2657\n",
      "Software and Developement       1.00      0.01      0.02        94\n",
      "                   Sports       0.82      0.99      0.90      4934\n",
      "                    Toons       1.00      1.00      1.00       210\n",
      "                 Top News       1.00      0.41      0.58       951\n",
      "              Top Stories       0.00      0.00      0.00       407\n",
      "                     U.S.       1.00      0.00      0.01       735\n",
      "                    World       0.55      0.90      0.68      4746\n",
      "\n",
      "                 accuracy                           0.73     24639\n",
      "                macro avg       0.74      0.50      0.51     24639\n",
      "             weighted avg       0.76      0.73      0.68     24639\n",
      "\n"
     ]
    },
    {
     "name": "stderr",
     "output_type": "stream",
     "text": [
      "C:\\Users\\N\\AppData\\Roaming\\Python\\Python39\\site-packages\\sklearn\\metrics\\_classification.py:1471: UndefinedMetricWarning: Precision and F-score are ill-defined and being set to 0.0 in labels with no predicted samples. Use `zero_division` parameter to control this behavior.\n",
      "  _warn_prf(average, modifier, msg_start, len(result))\n",
      "C:\\Users\\N\\AppData\\Roaming\\Python\\Python39\\site-packages\\sklearn\\metrics\\_classification.py:1471: UndefinedMetricWarning: Precision and F-score are ill-defined and being set to 0.0 in labels with no predicted samples. Use `zero_division` parameter to control this behavior.\n",
      "  _warn_prf(average, modifier, msg_start, len(result))\n"
     ]
    }
   ],
   "source": [
    "nb_clf = MultinomialNB()\n",
    "nb_clf.fit(X_train_tfidf, y_train)\n",
    "y_pred_nb = nb_clf.predict(X_test_tfidf)\n",
    "print(\"Classification Report for Naive Bayes:\\n\")\n",
    "print(classification_report(y_test, y_pred_nb))"
   ]
  },
  {
   "cell_type": "markdown",
   "metadata": {},
   "source": [
    "# Logistic Regression Classifier"
   ]
  },
  {
   "cell_type": "markdown",
   "metadata": {},
   "source": [
    "Classic with good (or acceptable) results.\n",
    "Computationally cheap."
   ]
  },
  {
   "cell_type": "code",
   "execution_count": 29,
   "metadata": {},
   "outputs": [
    {
     "name": "stdout",
     "output_type": "stream",
     "text": [
      "Classification Report for Logistic Regression:\n",
      "\n",
      "                           precision    recall  f1-score   support\n",
      "\n",
      "                 Business       0.82      0.88      0.85      3948\n",
      "            Entertainment       0.72      0.59      0.65      1536\n",
      "                   Europe       0.70      0.62      0.66      1882\n",
      "                   Health       0.82      0.83      0.83      1243\n",
      "                   Italia       1.00      1.00      1.00      1235\n",
      "              Music Feeds       1.00      0.52      0.69        61\n",
      "                 Sci/Tech       0.80      0.84      0.82      2657\n",
      "Software and Developement       1.00      0.43      0.60        94\n",
      "                   Sports       0.90      0.97      0.93      4934\n",
      "                    Toons       1.00      1.00      1.00       210\n",
      "                 Top News       0.83      0.58      0.68       951\n",
      "              Top Stories       0.32      0.02      0.05       407\n",
      "                     U.S.       0.68      0.53      0.60       735\n",
      "                    World       0.74      0.82      0.78      4746\n",
      "\n",
      "                 accuracy                           0.81     24639\n",
      "                macro avg       0.81      0.69      0.72     24639\n",
      "             weighted avg       0.80      0.81      0.80     24639\n",
      "\n"
     ]
    }
   ],
   "source": [
    "# Logistic Regression Classifier\n",
    "lr_clf = LogisticRegression(max_iter=1000)\n",
    "lr_clf.fit(X_train_tfidf, y_train)\n",
    "y_pred_lr = lr_clf.predict(X_test_tfidf)\n",
    "print(\"Classification Report for Logistic Regression:\\n\")\n",
    "print(classification_report(y_test, y_pred_lr))"
   ]
  },
  {
   "cell_type": "markdown",
   "metadata": {},
   "source": [
    "# SVM"
   ]
  },
  {
   "cell_type": "markdown",
   "metadata": {},
   "source": [
    "Computationally expensive. Results on sampled data are similar to NB and LR."
   ]
  },
  {
   "cell_type": "code",
   "execution_count": 34,
   "metadata": {},
   "outputs": [],
   "source": [
    "#from each category, sample x rows or all rows if x > len(category)\n",
    "# df.groupby(\"labels\").apply(lambda x: x.sample(10000)).reset_index(drop=True)\n",
    "def sample_data(df, s_size):\n",
    "    return df.groupby('label_strings').apply(lambda x: x.sample(s_size) if len(x) > s_size else x.sample(len(x)))\n",
    "\n",
    "df_s = sample_data(train_df, 5000)"
   ]
  },
  {
   "cell_type": "code",
   "execution_count": 35,
   "metadata": {},
   "outputs": [
    {
     "name": "stdout",
     "output_type": "stream",
     "text": [
      "(56950, 71778)\n",
      "(24639, 71778)\n",
      "Classification Report for Naive Bayes on reduced data dataset:\n",
      "\n"
     ]
    },
    {
     "name": "stderr",
     "output_type": "stream",
     "text": [
      "C:\\Users\\N\\AppData\\Roaming\\Python\\Python39\\site-packages\\sklearn\\metrics\\_classification.py:1471: UndefinedMetricWarning: Precision and F-score are ill-defined and being set to 0.0 in labels with no predicted samples. Use `zero_division` parameter to control this behavior.\n",
      "  _warn_prf(average, modifier, msg_start, len(result))\n",
      "C:\\Users\\N\\AppData\\Roaming\\Python\\Python39\\site-packages\\sklearn\\metrics\\_classification.py:1471: UndefinedMetricWarning: Precision and F-score are ill-defined and being set to 0.0 in labels with no predicted samples. Use `zero_division` parameter to control this behavior.\n",
      "  _warn_prf(average, modifier, msg_start, len(result))\n",
      "C:\\Users\\N\\AppData\\Roaming\\Python\\Python39\\site-packages\\sklearn\\metrics\\_classification.py:1471: UndefinedMetricWarning: Precision and F-score are ill-defined and being set to 0.0 in labels with no predicted samples. Use `zero_division` parameter to control this behavior.\n",
      "  _warn_prf(average, modifier, msg_start, len(result))\n"
     ]
    },
    {
     "name": "stdout",
     "output_type": "stream",
     "text": [
      "                           precision    recall  f1-score   support\n",
      "\n",
      "                 Business       0.81      0.80      0.80      3948\n",
      "            Entertainment       0.60      0.59      0.59      1536\n",
      "                   Europe       0.62      0.49      0.55      1882\n",
      "                   Health       0.65      0.90      0.76      1243\n",
      "                   Italia       1.00      1.00      1.00      1235\n",
      "              Music Feeds       0.00      0.00      0.00        61\n",
      "                 Sci/Tech       0.78      0.78      0.78      2657\n",
      "Software and Developement       1.00      0.09      0.16        94\n",
      "                   Sports       0.91      0.95      0.93      4934\n",
      "                    Toons       1.00      1.00      1.00       210\n",
      "                 Top News       0.94      0.46      0.61       951\n",
      "              Top Stories       0.16      0.01      0.02       407\n",
      "                     U.S.       0.30      0.77      0.43       735\n",
      "                    World       0.77      0.71      0.74      4746\n",
      "\n",
      "                 accuracy                           0.76     24639\n",
      "                macro avg       0.68      0.61      0.60     24639\n",
      "             weighted avg       0.77      0.76      0.75     24639\n",
      "\n",
      "Classification Report for Logistic Regression on reduced data dataset:\n",
      "\n",
      "                           precision    recall  f1-score   support\n",
      "\n",
      "                 Business       0.85      0.79      0.82      3948\n",
      "            Entertainment       0.58      0.61      0.60      1536\n",
      "                   Europe       0.59      0.68      0.63      1882\n",
      "                   Health       0.74      0.88      0.80      1243\n",
      "                   Italia       1.00      1.00      1.00      1235\n",
      "              Music Feeds       0.98      0.74      0.84        61\n",
      "                 Sci/Tech       0.79      0.79      0.79      2657\n",
      "Software and Developement       0.94      0.54      0.69        94\n",
      "                   Sports       0.92      0.92      0.92      4934\n",
      "                    Toons       1.00      1.00      1.00       210\n",
      "                 Top News       0.60      0.70      0.65       951\n",
      "              Top Stories       0.13      0.29      0.18       407\n",
      "                     U.S.       0.40      0.75      0.52       735\n",
      "                    World       0.83      0.57      0.67      4746\n",
      "\n",
      "                 accuracy                           0.76     24639\n",
      "                macro avg       0.74      0.73      0.72     24639\n",
      "             weighted avg       0.79      0.76      0.76     24639\n",
      "\n",
      "Classification Report for SVM on reduced data dataset:\n",
      "\n",
      "                           precision    recall  f1-score   support\n",
      "\n",
      "                 Business       0.86      0.80      0.83      3948\n",
      "            Entertainment       0.54      0.63      0.58      1536\n",
      "                   Europe       0.60      0.68      0.64      1882\n",
      "                   Health       0.75      0.89      0.81      1243\n",
      "                   Italia       1.00      1.00      1.00      1235\n",
      "              Music Feeds       1.00      0.70      0.83        61\n",
      "                 Sci/Tech       0.79      0.81      0.80      2657\n",
      "Software and Developement       0.98      0.50      0.66        94\n",
      "                   Sports       0.92      0.92      0.92      4934\n",
      "                    Toons       1.00      1.00      1.00       210\n",
      "                 Top News       0.67      0.70      0.68       951\n",
      "              Top Stories       0.15      0.30      0.20       407\n",
      "                     U.S.       0.44      0.75      0.56       735\n",
      "                    World       0.85      0.59      0.70      4746\n",
      "\n",
      "                 accuracy                           0.77     24639\n",
      "                macro avg       0.75      0.73      0.73     24639\n",
      "             weighted avg       0.79      0.77      0.77     24639\n",
      "\n"
     ]
    }
   ],
   "source": [
    "X_train, X_test, y_train, y_test = import_train_test(df_s, test_df)\n",
    "\n",
    "X_train_tfidf = tfidf.fit_transform(X_train)\n",
    "X_test_tfidf = tfidf.transform(X_test)\n",
    "\n",
    "print(X_train_tfidf.shape)\n",
    "print(X_test_tfidf.shape)\n",
    "\n",
    "\n",
    "# check the cheap ones first\n",
    "# Naive Bayes\n",
    "nb_clf = MultinomialNB()\n",
    "nb_clf.fit(X_train_tfidf, y_train)\n",
    "y_pred_nb = nb_clf.predict(X_test_tfidf)\n",
    "print(\"Classification Report for Naive Bayes on reduced data dataset:\\n\")\n",
    "print(classification_report(y_test, y_pred_nb))\n",
    "\n",
    "# Logistic Regression\n",
    "lr_clf = LogisticRegression(max_iter=1000)\n",
    "lr_clf.fit(X_train_tfidf, y_train)\n",
    "y_pred_lr = lr_clf.predict(X_test_tfidf)\n",
    "print(\"Classification Report for Logistic Regression on reduced data dataset:\\n\")\n",
    "print(classification_report(y_test, y_pred_lr))\n",
    "\n",
    "# SVC\n",
    "svm_clf = SVC()\n",
    "svm_clf.fit(X_train_tfidf, y_train)\n",
    "y_pred_svm = svm_clf.predict(X_test_tfidf)\n",
    "print(\"Classification Report for SVM on reduced data dataset:\\n\")\n",
    "print(classification_report(y_test, y_pred_svm))"
   ]
  },
  {
   "cell_type": "markdown",
   "metadata": {},
   "source": [
    "# Random Forest"
   ]
  },
  {
   "cell_type": "code",
   "execution_count": 14,
   "metadata": {},
   "outputs": [],
   "source": [
    "# ää ranfo Classifier\n",
    "rf_clf = RandomForestClassifier()\n",
    "rf_clf.fit(X_train_tfidf, y_train)\n",
    "y_pred_rf = rf_clf.predict(X_test_tfidf)\n",
    "print(\"Classification Report for Random Forest:\\n\")\n",
    "print(classification_report(y_test, y_pred_rf))"
   ]
  },
  {
   "cell_type": "markdown",
   "metadata": {},
   "source": [
    "# Draft for pipeline"
   ]
  },
  {
   "cell_type": "code",
   "execution_count": 3,
   "metadata": {},
   "outputs": [
    {
     "name": "stdout",
     "output_type": "stream",
     "text": [
      "\n",
      "Training and evaluating SVM...\n"
     ]
    }
   ],
   "source": [
    "import pandas as pd\n",
    "from sklearn.model_selection import train_test_split\n",
    "from sklearn.feature_extraction.text import TfidfVectorizer\n",
    "from sklearn.pipeline import Pipeline\n",
    "from sklearn.svm import SVC\n",
    "from sklearn.naive_bayes import MultinomialNB\n",
    "from sklearn.linear_model import LogisticRegression\n",
    "from sklearn.metrics import classification_report\n",
    "\n",
    "\n",
    "df = pd.read_csv(\"clean_data.csv\")\n",
    "\n",
    "# Split data into training and test sets\n",
    "X_train, X_test, y_train, y_test = train_test_split(df['article'], df['labels'], test_size=0.2, random_state=42)\n",
    "\n",
    "# Define a function to create pipelines for different classifiers\n",
    "def create_pipeline(classifier):\n",
    "    return Pipeline([\n",
    "        ('tfidf', TfidfVectorizer()),  # Convert text to TF-IDF features\n",
    "        ('clf', classifier),  # Classifier (SVM, Naive Bayes, Logistic Regression, etc.)\n",
    "    ])\n",
    "\n",
    "# Define the classifiers you want to use\n",
    "classifiers = {\n",
    "    'SVM': SVC(kernel='linear'),\n",
    "    'Naive Bayes': MultinomialNB(),\n",
    "    'Logistic Regression': LogisticRegression(max_iter=1000)\n",
    "}\n",
    "\n",
    "# Train and evaluate each classifier\n",
    "for name, classifier in classifiers.items():\n",
    "    print(f\"\\nTraining and evaluating {name}...\")\n",
    "    pipeline = create_pipeline(classifier)\n",
    "    pipeline.fit(X_train, y_train)  # Train the model\n",
    "    y_pred = pipeline.predict(X_test)  # Predict on the test set\n",
    "    \n",
    "    # Print evaluation metrics\n",
    "    print(f\"Classification Report for {name}:\\n\")\n",
    "    print(classification_report(y_test, y_pred))"
   ]
  }
 ],
 "metadata": {
  "kernelspec": {
   "display_name": "base",
   "language": "python",
   "name": "python3"
  },
  "language_info": {
   "codemirror_mode": {
    "name": "ipython",
    "version": 3
   },
   "file_extension": ".py",
   "mimetype": "text/x-python",
   "name": "python",
   "nbconvert_exporter": "python",
   "pygments_lexer": "ipython3",
   "version": "3.9.16"
  }
 },
 "nbformat": 4,
 "nbformat_minor": 2
}
